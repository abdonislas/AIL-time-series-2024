{
  "nbformat": 4,
  "nbformat_minor": 0,
  "metadata": {
    "colab": {
      "provenance": [],
      "include_colab_link": true
    },
    "kernelspec": {
      "name": "python3",
      "display_name": "Python 3"
    },
    "language_info": {
      "name": "python"
    }
  },
  "cells": [
    {
      "cell_type": "markdown",
      "metadata": {
        "id": "view-in-github",
        "colab_type": "text"
      },
      "source": [
        "<a href=\"https://colab.research.google.com/github/abdonislas/AIL-time-series-2024/blob/main/transformaciones_ajustes.ipynb\" target=\"_parent\"><img src=\"https://colab.research.google.com/assets/colab-badge.svg\" alt=\"Open In Colab\"/></a>"
      ]
    },
    {
      "cell_type": "markdown",
      "source": [
        "<br>\n",
        "<br>\n",
        "\n",
        "![iteso](https://upload.wikimedia.org/wikipedia/en/5/5f/Western_Institute_of_Technology_and_Higher_Education_logo.png)\n",
        "\n",
        "<br>\n",
        "<br>\n",
        "Clase: Series de tiempo\n",
        "<br>\n",
        "Actividad: Transformaciones y ajustes\n",
        "<br>\n",
        "<br>\n",
        "\n",
        "* * *\n",
        "\n",
        "Docente: Daniel Nuño <br>\n",
        "Fecha: 18 de septiembre 2024 <br>\n",
        "\n",
        "* * *\n",
        "\n",
        "<br>\n",
        "<br>"
      ],
      "metadata": {
        "id": "4_ie_smF9qg_"
      }
    },
    {
      "cell_type": "code",
      "source": [
        "import pandas as pd\n",
        "import numpy as np\n",
        "import matplotlib.pyplot as plt\n",
        "import seaborn as sns\n",
        "import datetime as dt\n",
        "import scipy as sp\n",
        "import yfinance as yf\n",
        "import datetime as dt\n"
      ],
      "metadata": {
        "id": "SaJsu07VDecv"
      },
      "execution_count": 67,
      "outputs": []
    },
    {
      "cell_type": "code",
      "source": [
        "stock = \"NVDA\"\n",
        "ticker = yf.Ticker(stock)\n",
        "data = ticker.history(start = \"2013-01-01\", end = dt.datetime.now(), interval = \"1mo\")[\"Close\"]"
      ],
      "metadata": {
        "id": "b_rs3smvDwNG"
      },
      "execution_count": 69,
      "outputs": []
    },
    {
      "cell_type": "code",
      "source": [
        "data.var()"
      ],
      "metadata": {
        "colab": {
          "base_uri": "https://localhost:8080/"
        },
        "id": "a9sbJw0iD0Za",
        "outputId": "1b48f699-19a7-44ce-ac96-dcfce320c1da"
      },
      "execution_count": 71,
      "outputs": [
        {
          "output_type": "execute_result",
          "data": {
            "text/plain": [
              "654.2677317425012"
            ]
          },
          "metadata": {},
          "execution_count": 71
        }
      ]
    },
    {
      "cell_type": "code",
      "source": [
        "data.std()"
      ],
      "metadata": {
        "colab": {
          "base_uri": "https://localhost:8080/"
        },
        "id": "jc_IoFDyEhoP",
        "outputId": "56b6ba6d-cd37-499a-d332-4e9ba18ea06f"
      },
      "execution_count": 72,
      "outputs": [
        {
          "output_type": "execute_result",
          "data": {
            "text/plain": [
              "25.57865773926578"
            ]
          },
          "metadata": {},
          "execution_count": 72
        }
      ]
    },
    {
      "cell_type": "code",
      "source": [
        "data.skew()"
      ],
      "metadata": {
        "colab": {
          "base_uri": "https://localhost:8080/"
        },
        "id": "vdlufMVGD3fy",
        "outputId": "172583e5-1b2d-496f-b357-d13a5dec52d2"
      },
      "execution_count": 73,
      "outputs": [
        {
          "output_type": "execute_result",
          "data": {
            "text/plain": [
              "2.7892109282755055"
            ]
          },
          "metadata": {},
          "execution_count": 73
        }
      ]
    },
    {
      "cell_type": "code",
      "source": [
        "sp.stats.skew(data, bias=False), sp.stats.skew(data)"
      ],
      "metadata": {
        "colab": {
          "base_uri": "https://localhost:8080/"
        },
        "id": "UiT0NWOZFKdc",
        "outputId": "db5cbba7-4fa4-4080-fe83-2e916ce34320"
      },
      "execution_count": 74,
      "outputs": [
        {
          "output_type": "execute_result",
          "data": {
            "text/plain": [
              "(2.789210928275506, 2.759450349217575)"
            ]
          },
          "metadata": {},
          "execution_count": 74
        }
      ]
    },
    {
      "cell_type": "code",
      "source": [
        "data.hist(bins=50)"
      ],
      "metadata": {
        "colab": {
          "base_uri": "https://localhost:8080/",
          "height": 447
        },
        "id": "uAdAz7vLEm9h",
        "outputId": "46d6272d-b80d-43f8-d8fa-12ea08c8f23a"
      },
      "execution_count": 75,
      "outputs": [
        {
          "output_type": "execute_result",
          "data": {
            "text/plain": [
              "<Axes: >"
            ]
          },
          "metadata": {},
          "execution_count": 75
        },
        {
          "output_type": "display_data",
          "data": {
            "text/plain": [
              "<Figure size 640x480 with 1 Axes>"
            ],
            "image/png": "[encoded data removed]"
          },
          "metadata": {}
        }
      ]
    },
    {
      "cell_type": "code",
      "source": [
        "data.plot()"
      ],
      "metadata": {
        "colab": {
          "base_uri": "https://localhost:8080/",
          "height": 466
        },
        "id": "1lWGG7x5Gg-h",
        "outputId": "edf0a4d7-09dc-40c8-e660-c57442d37f10"
      },
      "execution_count": 76,
      "outputs": [
        {
          "output_type": "execute_result",
          "data": {
            "text/plain": [
              "<Axes: xlabel='Date'>"
            ]
          },
          "metadata": {},
          "execution_count": 76
        },
        {
          "output_type": "display_data",
          "data": {
            "text/plain": [
              "<Figure size 640x480 with 1 Axes>"
            ],
            "image/png": "[encoded data removed]"
          },
          "metadata": {}
        }
      ]
    },
    {
      "cell_type": "markdown",
      "source": [
        "# Transformaciones y ajustes\n",
        "\n",
        "A menudo, el ajuste de los datos históricos puede dar lugar a series de tiempo más sencillas.\n",
        "\n",
        "El objetivo de estos ajustes y transformaciones es simplificar los patrones de los datos históricos eliminando las fuentes de variación conocidas o haciendo que el patrón sea más coherente en todo el conjunto de datos. Las pautas más simples suelen ser más fáciles de modelizar y conducen a previsiones más precisas.\n",
        "\n",
        "Matemáticamente una variable más sencilla tiene una variación más pequeña, sesgo cercado a 0, sin colas a la derecha o izquierda de la distribución, sin valores atípicos, una magnitud similar; sin perder información valiosa.\n",
        "\n",
        "Esto se puede lograr a partir de diferentes tranformaciones o ajustes. Vamos a analizar algunas.\n",
        "\n",
        "Utiliza tu serie de tiempo. Decide que transformaciones y ajustes son mejores para tu variable.\n",
        "\n",
        "Utiliza como comparación el sesgo (una distribución normal tiene sesgo 0) la varianza (o desviación estándar). Complementa visualmente con el histograma (o función de densidad de probabilidad)\n",
        "\n",
        "## Elimina valores antiguos que no representan la actualidad"
      ],
      "metadata": {
        "id": "LA897Knp92i9"
      }
    },
    {
      "cell_type": "code",
      "execution_count": 79,
      "metadata": {
        "colab": {
          "base_uri": "https://localhost:8080/"
        },
        "id": "VL_dD0ph82qX",
        "outputId": "f6ab05de-12ba-4af9-89f9-bf4202c9e657"
      },
      "outputs": [
        {
          "output_type": "execute_result",
          "data": {
            "text/plain": [
              "1.03269534294031"
            ]
          },
          "metadata": {},
          "execution_count": 79
        }
      ],
      "source": [
        "data[\"2022-01-01\":].skew()"
      ]
    },
    {
      "cell_type": "code",
      "source": [
        "data[\"2022-01-01\":].std()"
      ],
      "metadata": {
        "colab": {
          "base_uri": "https://localhost:8080/"
        },
        "id": "POmjUahDJMUH",
        "outputId": "1247df7c-611f-4cd2-ac31-264c1fa71326"
      },
      "execution_count": 80,
      "outputs": [
        {
          "output_type": "execute_result",
          "data": {
            "text/plain": [
              "35.96616288054098"
            ]
          },
          "metadata": {},
          "execution_count": 80
        }
      ]
    },
    {
      "cell_type": "code",
      "source": [
        "data[\"2022-01-01\":].plot()"
      ],
      "metadata": {
        "colab": {
          "base_uri": "https://localhost:8080/",
          "height": 483
        },
        "id": "o9utk_zeIzii",
        "outputId": "638891b7-b10e-4d98-f960-c382ec23d0e5"
      },
      "execution_count": 81,
      "outputs": [
        {
          "output_type": "execute_result",
          "data": {
            "text/plain": [
              "<Axes: xlabel='Date'>"
            ]
          },
          "metadata": {},
          "execution_count": 81
        },
        {
          "output_type": "display_data",
          "data": {
            "text/plain": [
              "<Figure size 640x480 with 1 Axes>"
            ],
            "image/png": "[encoded data removed]"
          },
          "metadata": {}
        }
      ]
    },
    {
      "cell_type": "code",
      "source": [
        "data[\"2022-01-01\":].hist(bins=50)"
      ],
      "metadata": {
        "colab": {
          "base_uri": "https://localhost:8080/",
          "height": 447
        },
        "id": "F9uKokneJD99",
        "outputId": "c235da6d-fc12-4ace-e00f-79c7343aabad"
      },
      "execution_count": 82,
      "outputs": [
        {
          "output_type": "execute_result",
          "data": {
            "text/plain": [
              "<Axes: >"
            ]
          },
          "metadata": {},
          "execution_count": 82
        },
        {
          "output_type": "display_data",
          "data": {
            "text/plain": [
              "<Figure size 640x480 with 1 Axes>"
            ],
            "image/png": "[encoded data removed]"
          },
          "metadata": {}
        }
      ]
    },
    {
      "cell_type": "markdown",
      "source": [
        "## Diferenciación"
      ],
      "metadata": {
        "id": "ic3biwcAJuaK"
      }
    },
    {
      "cell_type": "code",
      "source": [
        "data.diff().skew()"
      ],
      "metadata": {
        "colab": {
          "base_uri": "https://localhost:8080/"
        },
        "id": "RR7rRmzTJ4bO",
        "outputId": "5efde51b-971b-41f4-df22-6bb83018c1ef"
      },
      "execution_count": 83,
      "outputs": [
        {
          "output_type": "execute_result",
          "data": {
            "text/plain": [
              "2.8055623922554824"
            ]
          },
          "metadata": {},
          "execution_count": 83
        }
      ]
    },
    {
      "cell_type": "code",
      "source": [
        "data.diff().plot()"
      ],
      "metadata": {
        "colab": {
          "base_uri": "https://localhost:8080/",
          "height": 466
        },
        "id": "zgqzE8w4KC6l",
        "outputId": "bc192dee-8857-4054-8c5b-e2f23f65082e"
      },
      "execution_count": 84,
      "outputs": [
        {
          "output_type": "execute_result",
          "data": {
            "text/plain": [
              "<Axes: xlabel='Date'>"
            ]
          },
          "metadata": {},
          "execution_count": 84
        },
        {
          "output_type": "display_data",
          "data": {
            "text/plain": [
              "<Figure size 640x480 with 1 Axes>"
            ],
            "image/png": "[encoded data removed]"
          },
          "metadata": {}
        }
      ]
    },
    {
      "cell_type": "markdown",
      "source": [
        "Podemos ver valores atipicos empezando el 2022 que fue cuando los precios de Nvidia se empezaron a disparar gracias a bloqueos económicos que favorecían a la empresa"
      ],
      "metadata": {
        "id": "qiD4mRL8tEaC"
      }
    },
    {
      "cell_type": "code",
      "source": [
        "data.diff().hist(bins=50)"
      ],
      "metadata": {
        "colab": {
          "base_uri": "https://localhost:8080/",
          "height": 447
        },
        "id": "HmU8n6UNKHwB",
        "outputId": "d459b529-2151-45bf-dae7-66235f7c7f32"
      },
      "execution_count": 85,
      "outputs": [
        {
          "output_type": "execute_result",
          "data": {
            "text/plain": [
              "<Axes: >"
            ]
          },
          "metadata": {},
          "execution_count": 85
        },
        {
          "output_type": "display_data",
          "data": {
            "text/plain": [
              "<Figure size 640x480 with 1 Axes>"
            ],
            "image/png": "[encoded data removed]"
          },
          "metadata": {}
        }
      ]
    },
    {
      "cell_type": "markdown",
      "source": [
        "apreciamos datos mas normalizados"
      ],
      "metadata": {
        "id": "wm53xG3YtRU1"
      }
    },
    {
      "cell_type": "markdown",
      "source": [
        "### Retornos"
      ],
      "metadata": {
        "id": "TgRbjBTaKXIW"
      }
    },
    {
      "cell_type": "code",
      "source": [
        "data.pct_change().skew()"
      ],
      "metadata": {
        "colab": {
          "base_uri": "https://localhost:8080/"
        },
        "id": "1SfRpXP2KOxB",
        "outputId": "a14c054a-16b6-4541-f125-60db3c730e04"
      },
      "execution_count": 86,
      "outputs": [
        {
          "output_type": "execute_result",
          "data": {
            "text/plain": [
              "0.02107007999281998"
            ]
          },
          "metadata": {},
          "execution_count": 86
        }
      ]
    },
    {
      "cell_type": "code",
      "source": [
        "data.pct_change().plot()"
      ],
      "metadata": {
        "colab": {
          "base_uri": "https://localhost:8080/",
          "height": 466
        },
        "id": "jeLIUzvEKdgj",
        "outputId": "e4b741a8-f237-4f31-9e2c-d250092df5d5"
      },
      "execution_count": 87,
      "outputs": [
        {
          "output_type": "execute_result",
          "data": {
            "text/plain": [
              "<Axes: xlabel='Date'>"
            ]
          },
          "metadata": {},
          "execution_count": 87
        },
        {
          "output_type": "display_data",
          "data": {
            "text/plain": [
              "<Figure size 640x480 with 1 Axes>"
            ],
            "image/png": "[encoded data removed]"
          },
          "metadata": {}
        }
      ]
    },
    {
      "cell_type": "markdown",
      "source": [
        "Valores atipicos vistos en 2019 y 2022"
      ],
      "metadata": {
        "id": "t_mBcPputVLy"
      }
    },
    {
      "cell_type": "code",
      "source": [
        "data.pct_change().hist(bins=50)"
      ],
      "metadata": {
        "colab": {
          "base_uri": "https://localhost:8080/",
          "height": 447
        },
        "id": "kgqwjZJBKWua",
        "outputId": "ed126e75-dc96-4d98-e4b4-833d4b5011b6"
      },
      "execution_count": 88,
      "outputs": [
        {
          "output_type": "execute_result",
          "data": {
            "text/plain": [
              "<Axes: >"
            ]
          },
          "metadata": {},
          "execution_count": 88
        },
        {
          "output_type": "display_data",
          "data": {
            "text/plain": [
              "<Figure size 640x480 with 1 Axes>"
            ],
            "image/png": "[encoded data removed]"
          },
          "metadata": {}
        }
      ]
    },
    {
      "cell_type": "markdown",
      "source": [
        "## Escalamiento y Desplazamiento\n",
        "\n",
        "### Escalamiento valores máximo y mínimo\n",
        "\n",
        "$$\n",
        "Y=\\frac{X-\\min(X)}{\\max(X)-\\min(X)}\n",
        "$$"
      ],
      "metadata": {
        "id": "ASah9maXKma5"
      }
    },
    {
      "cell_type": "code",
      "source": [
        "from sklearn.preprocessing import MinMaxScaler"
      ],
      "metadata": {
        "id": "zh3z0f6LK8Gd"
      },
      "execution_count": 89,
      "outputs": []
    },
    {
      "cell_type": "code",
      "source": [
        "mM=MinMaxScaler()\n",
        "Z = mM.fit_transform(data.values.reshape(-1,1))"
      ],
      "metadata": {
        "id": "5JXchlvbMnsz"
      },
      "execution_count": 90,
      "outputs": []
    },
    {
      "cell_type": "code",
      "source": [
        "sp.stats.skew(Z, bias=False)"
      ],
      "metadata": {
        "colab": {
          "base_uri": "https://localhost:8080/"
        },
        "id": "e4j3eYQxNEv-",
        "outputId": "fb8ed628-189c-4d01-a521-cc2d3e8f37d5"
      },
      "execution_count": 91,
      "outputs": [
        {
          "output_type": "execute_result",
          "data": {
            "text/plain": [
              "array([2.78921093])"
            ]
          },
          "metadata": {},
          "execution_count": 91
        }
      ]
    },
    {
      "cell_type": "code",
      "source": [
        "Z.std()"
      ],
      "metadata": {
        "colab": {
          "base_uri": "https://localhost:8080/"
        },
        "id": "C9ArlEjQNJU2",
        "outputId": "5d8cbbc1-63e4-48c8-96cd-9f2499af541c"
      },
      "execution_count": 92,
      "outputs": [
        {
          "output_type": "execute_result",
          "data": {
            "text/plain": [
              "0.20682037611952953"
            ]
          },
          "metadata": {},
          "execution_count": 92
        }
      ]
    },
    {
      "cell_type": "code",
      "source": [
        "Z.mean()"
      ],
      "metadata": {
        "colab": {
          "base_uri": "https://localhost:8080/"
        },
        "id": "skZMd1rcNKPC",
        "outputId": "1479d0aa-1d3f-46f1-9061-32a7f914e0de"
      },
      "execution_count": 93,
      "outputs": [
        {
          "output_type": "execute_result",
          "data": {
            "text/plain": [
              "0.12055776482231031"
            ]
          },
          "metadata": {},
          "execution_count": 93
        }
      ]
    },
    {
      "cell_type": "code",
      "source": [
        "plt.plot(Z)"
      ],
      "metadata": {
        "colab": {
          "base_uri": "https://localhost:8080/",
          "height": 447
        },
        "id": "0FpEcGTXNMgP",
        "outputId": "e6155517-e6ec-454d-939b-c60968163347"
      },
      "execution_count": 94,
      "outputs": [
        {
          "output_type": "execute_result",
          "data": {
            "text/plain": [
              "[<matplotlib.lines.Line2D at 0x7e3785138e50>]"
            ]
          },
          "metadata": {},
          "execution_count": 94
        },
        {
          "output_type": "display_data",
          "data": {
            "text/plain": [
              "<Figure size 640x480 with 1 Axes>"
            ],
            "image/png": "[encoded data removed]"
          },
          "metadata": {}
        }
      ]
    },
    {
      "cell_type": "code",
      "source": [
        "plt.hist(Z, bins=50)"
      ],
      "metadata": {
        "colab": {
          "base_uri": "https://localhost:8080/",
          "height": 604
        },
        "id": "WqwxbBcINZZJ",
        "outputId": "b4247036-b4ce-4b4d-b474-3a246f1138d7"
      },
      "execution_count": 95,
      "outputs": [
        {
          "output_type": "execute_result",
          "data": {
            "text/plain": [
              "(array([52., 20., 16.,  2.,  3., 10.,  4.,  6.,  2.,  3.,  2.,  3.,  0.,\n",
              "         1.,  0.,  1.,  1.,  2.,  2.,  2.,  0.,  0.,  0.,  0.,  1.,  0.,\n",
              "         0.,  0.,  0.,  0.,  0.,  1.,  0.,  0.,  1.,  0.,  1.,  0.,  0.,\n",
              "         0.,  0.,  0.,  0.,  0.,  1.,  1.,  0.,  1.,  1.,  1.]),\n",
              " array([0.  , 0.02, 0.04, 0.06, 0.08, 0.1 , 0.12, 0.14, 0.16, 0.18, 0.2 ,\n",
              "        0.22, 0.24, 0.26, 0.28, 0.3 , 0.32, 0.34, 0.36, 0.38, 0.4 , 0.42,\n",
              "        0.44, 0.46, 0.48, 0.5 , 0.52, 0.54, 0.56, 0.58, 0.6 , 0.62, 0.64,\n",
              "        0.66, 0.68, 0.7 , 0.72, 0.74, 0.76, 0.78, 0.8 , 0.82, 0.84, 0.86,\n",
              "        0.88, 0.9 , 0.92, 0.94, 0.96, 0.98, 1.  ]),\n",
              " <BarContainer object of 50 artists>)"
            ]
          },
          "metadata": {},
          "execution_count": 95
        },
        {
          "output_type": "display_data",
          "data": {
            "text/plain": [
              "<Figure size 640x480 with 1 Axes>"
            ],
            "image/png": "[encoded data removed]"
          },
          "metadata": {}
        }
      ]
    },
    {
      "cell_type": "markdown",
      "source": [
        "### Desplazamiento"
      ],
      "metadata": {
        "id": "ULXq-F0iNxvS"
      }
    },
    {
      "cell_type": "code",
      "source": [
        "Z = Z + 1 # si quieres desplazar, en éste caso mayor a 1"
      ],
      "metadata": {
        "id": "HwYOhqhjNwYS"
      },
      "execution_count": 96,
      "outputs": []
    },
    {
      "cell_type": "code",
      "source": [
        "sp.stats.skew(Z, bias=False)"
      ],
      "metadata": {
        "colab": {
          "base_uri": "https://localhost:8080/"
        },
        "id": "HGZiM-hMN2YV",
        "outputId": "54a028f4-c4ed-4e72-b0f2-3a72e3b97c1f"
      },
      "execution_count": 97,
      "outputs": [
        {
          "output_type": "execute_result",
          "data": {
            "text/plain": [
              "array([2.78921093])"
            ]
          },
          "metadata": {},
          "execution_count": 97
        }
      ]
    },
    {
      "cell_type": "code",
      "source": [
        "Z.std()"
      ],
      "metadata": {
        "colab": {
          "base_uri": "https://localhost:8080/"
        },
        "id": "eiHUr65LN9H6",
        "outputId": "e55ea5cb-2aef-40f7-ed05-11c4077f2e9b"
      },
      "execution_count": 98,
      "outputs": [
        {
          "output_type": "execute_result",
          "data": {
            "text/plain": [
              "0.20682037611952953"
            ]
          },
          "metadata": {},
          "execution_count": 98
        }
      ]
    },
    {
      "cell_type": "code",
      "source": [
        "plt.plot(Z)"
      ],
      "metadata": {
        "colab": {
          "base_uri": "https://localhost:8080/",
          "height": 447
        },
        "id": "N7Pz4NFROHkq",
        "outputId": "e03558d5-c268-4c74-9051-c95b757789dc"
      },
      "execution_count": 100,
      "outputs": [
        {
          "output_type": "execute_result",
          "data": {
            "text/plain": [
              "[<matplotlib.lines.Line2D at 0x7e378543e8c0>]"
            ]
          },
          "metadata": {},
          "execution_count": 100
        },
        {
          "output_type": "display_data",
          "data": {
            "text/plain": [
              "<Figure size 640x480 with 1 Axes>"
            ],
            "image/png": "[encoded data removed]"
          },
          "metadata": {}
        }
      ]
    },
    {
      "cell_type": "code",
      "source": [
        "plt.hist(Z, bins=50)"
      ],
      "metadata": {
        "colab": {
          "base_uri": "https://localhost:8080/",
          "height": 604
        },
        "id": "WnFbtwyfONBC",
        "outputId": "0ec013e9-3f72-48f4-b4e9-b745526150f5"
      },
      "execution_count": 101,
      "outputs": [
        {
          "output_type": "execute_result",
          "data": {
            "text/plain": [
              "(array([52., 20., 16.,  2.,  3., 10.,  4.,  6.,  2.,  3.,  2.,  3.,  0.,\n",
              "         1.,  0.,  1.,  1.,  2.,  2.,  2.,  0.,  0.,  0.,  0.,  1.,  0.,\n",
              "         0.,  0.,  0.,  0.,  0.,  1.,  0.,  0.,  1.,  0.,  1.,  0.,  0.,\n",
              "         0.,  0.,  0.,  0.,  0.,  1.,  1.,  0.,  1.,  1.,  1.]),\n",
              " array([1.  , 1.02, 1.04, 1.06, 1.08, 1.1 , 1.12, 1.14, 1.16, 1.18, 1.2 ,\n",
              "        1.22, 1.24, 1.26, 1.28, 1.3 , 1.32, 1.34, 1.36, 1.38, 1.4 , 1.42,\n",
              "        1.44, 1.46, 1.48, 1.5 , 1.52, 1.54, 1.56, 1.58, 1.6 , 1.62, 1.64,\n",
              "        1.66, 1.68, 1.7 , 1.72, 1.74, 1.76, 1.78, 1.8 , 1.82, 1.84, 1.86,\n",
              "        1.88, 1.9 , 1.92, 1.94, 1.96, 1.98, 2.  ]),\n",
              " <BarContainer object of 50 artists>)"
            ]
          },
          "metadata": {},
          "execution_count": 101
        },
        {
          "output_type": "display_data",
          "data": {
            "text/plain": [
              "<Figure size 640x480 with 1 Axes>"
            ],
            "image/png": "[encoded data removed]"
          },
          "metadata": {}
        }
      ]
    },
    {
      "cell_type": "markdown",
      "source": [
        "## Estandarización\n",
        "\n",
        "Estandarización\n",
        "$$\n",
        "Z=\\frac{X-\\bar{x}}{\\sigma},\n",
        "$$\n",
        "donde $\\bar{x}$ es la media aritmética del conjunto $X$ y $\\sigma$ es su desviasión estándar."
      ],
      "metadata": {
        "id": "PHR4nht0K8Wo"
      }
    },
    {
      "cell_type": "code",
      "source": [
        "from sklearn.preprocessing import StandardScaler"
      ],
      "metadata": {
        "id": "NZdXLtwNLobg"
      },
      "execution_count": 102,
      "outputs": []
    },
    {
      "cell_type": "code",
      "source": [
        "est = StandardScaler()\n",
        "Z = est.fit_transform(data.values.reshape(-1,1))"
      ],
      "metadata": {
        "id": "nWCNKQ6BLpPb"
      },
      "execution_count": 103,
      "outputs": []
    },
    {
      "cell_type": "code",
      "source": [
        "sp.stats.skew(Z, bias=False)"
      ],
      "metadata": {
        "colab": {
          "base_uri": "https://localhost:8080/"
        },
        "id": "wjrKH6PZL0Fr",
        "outputId": "c5e73658-756b-411a-afa9-3a6d9d576420"
      },
      "execution_count": 104,
      "outputs": [
        {
          "output_type": "execute_result",
          "data": {
            "text/plain": [
              "array([2.78921093])"
            ]
          },
          "metadata": {},
          "execution_count": 104
        }
      ]
    },
    {
      "cell_type": "code",
      "source": [
        "Z.std()"
      ],
      "metadata": {
        "colab": {
          "base_uri": "https://localhost:8080/"
        },
        "id": "QV4BiO3RL1ss",
        "outputId": "323c58f2-b8a7-48ee-89f4-e8c134982bc4"
      },
      "execution_count": 105,
      "outputs": [
        {
          "output_type": "execute_result",
          "data": {
            "text/plain": [
              "1.0"
            ]
          },
          "metadata": {},
          "execution_count": 105
        }
      ]
    },
    {
      "cell_type": "code",
      "source": [
        "Z.mean()"
      ],
      "metadata": {
        "colab": {
          "base_uri": "https://localhost:8080/"
        },
        "id": "SrsnC5trMOMG",
        "outputId": "482936e8-dfd4-43d6-9f52-e2b9ffbecec7"
      },
      "execution_count": 106,
      "outputs": [
        {
          "output_type": "execute_result",
          "data": {
            "text/plain": [
              "-5.039310182695746e-17"
            ]
          },
          "metadata": {},
          "execution_count": 106
        }
      ]
    },
    {
      "cell_type": "code",
      "source": [
        "plt.plot(Z)"
      ],
      "metadata": {
        "id": "llKnBAAzNeX5",
        "colab": {
          "base_uri": "https://localhost:8080/",
          "height": 447
        },
        "outputId": "dc17ef4a-3813-46a0-b007-0e32f1f107a0"
      },
      "execution_count": 107,
      "outputs": [
        {
          "output_type": "execute_result",
          "data": {
            "text/plain": [
              "[<matplotlib.lines.Line2D at 0x7e3784c54610>]"
            ]
          },
          "metadata": {},
          "execution_count": 107
        },
        {
          "output_type": "display_data",
          "data": {
            "text/plain": [
              "<Figure size 640x480 with 1 Axes>"
            ],
            "image/png": "[encoded data removed]"
          },
          "metadata": {}
        }
      ]
    },
    {
      "cell_type": "code",
      "source": [
        "plt.hist(Z, bins=50)"
      ],
      "metadata": {
        "id": "M0XJYdq4MS8P",
        "colab": {
          "base_uri": "https://localhost:8080/",
          "height": 742
        },
        "outputId": "f2c5f134-5d85-40aa-ee32-d881690ee20d"
      },
      "execution_count": 108,
      "outputs": [
        {
          "output_type": "execute_result",
          "data": {
            "text/plain": [
              "(array([52., 20., 16.,  2.,  3., 10.,  4.,  6.,  2.,  3.,  2.,  3.,  0.,\n",
              "         1.,  0.,  1.,  1.,  2.,  2.,  2.,  0.,  0.,  0.,  0.,  1.,  0.,\n",
              "         0.,  0.,  0.,  0.,  0.,  1.,  0.,  0.,  1.,  0.,  1.,  0.,  0.,\n",
              "         0.,  0.,  0.,  0.,  0.,  1.,  1.,  0.,  1.,  1.,  1.]),\n",
              " array([-5.82910481e-01, -4.86208210e-01, -3.89505939e-01, -2.92803668e-01,\n",
              "        -1.96101398e-01, -9.93991270e-02, -2.69685624e-03,  9.40054145e-02,\n",
              "         1.90707685e-01,  2.87409956e-01,  3.84112227e-01,  4.80814497e-01,\n",
              "         5.77516768e-01,  6.74219039e-01,  7.70921309e-01,  8.67623580e-01,\n",
              "         9.64325851e-01,  1.06102812e+00,  1.15773039e+00,  1.25443266e+00,\n",
              "         1.35113493e+00,  1.44783720e+00,  1.54453948e+00,  1.64124175e+00,\n",
              "         1.73794402e+00,  1.83464629e+00,  1.93134856e+00,  2.02805083e+00,\n",
              "         2.12475310e+00,  2.22145537e+00,  2.31815764e+00,  2.41485991e+00,\n",
              "         2.51156218e+00,  2.60826445e+00,  2.70496672e+00,  2.80166899e+00,\n",
              "         2.89837127e+00,  2.99507354e+00,  3.09177581e+00,  3.18847808e+00,\n",
              "         3.28518035e+00,  3.38188262e+00,  3.47858489e+00,  3.57528716e+00,\n",
              "         3.67198943e+00,  3.76869170e+00,  3.86539397e+00,  3.96209624e+00,\n",
              "         4.05879851e+00,  4.15550078e+00,  4.25220306e+00]),\n",
              " <BarContainer object of 50 artists>)"
            ]
          },
          "metadata": {},
          "execution_count": 108
        },
        {
          "output_type": "display_data",
          "data": {
            "text/plain": [
              "<Figure size 640x480 with 1 Axes>"
            ],
            "image/png": "[encoded data removed]"
          },
          "metadata": {}
        }
      ]
    },
    {
      "cell_type": "markdown",
      "source": [
        "## Outliers\n",
        "\n",
        "### Tres Desviaciones estándar"
      ],
      "metadata": {
        "id": "7We7RfSDOQOC"
      }
    },
    {
      "cell_type": "code",
      "source": [
        "sum(np.abs(sp.stats.zscore(data)) > 3)"
      ],
      "metadata": {
        "colab": {
          "base_uri": "https://localhost:8080/"
        },
        "id": "vfJuXbTCPNIa",
        "outputId": "0a327540-09ab-4da0-c66f-6a2f5c65e2ab"
      },
      "execution_count": 109,
      "outputs": [
        {
          "output_type": "execute_result",
          "data": {
            "text/plain": [
              "5"
            ]
          },
          "metadata": {},
          "execution_count": 109
        }
      ]
    },
    {
      "cell_type": "code",
      "source": [
        "data[(np.abs(sp.stats.zscore(data)) < 3)]"
      ],
      "metadata": {
        "colab": {
          "base_uri": "https://localhost:8080/",
          "height": 490
        },
        "id": "1zCKwdUcOr3u",
        "outputId": "4152a1cf-fe27-401f-fc8d-db1746e2de61"
      },
      "execution_count": 110,
      "outputs": [
        {
          "output_type": "execute_result",
          "data": {
            "text/plain": [
              "Date\n",
              "2013-01-01 00:00:00-05:00     0.282920\n",
              "2013-02-01 00:00:00-05:00     0.292150\n",
              "2013-03-01 00:00:00-05:00     0.297890\n",
              "2013-04-01 00:00:00-04:00     0.319715\n",
              "2013-05-01 00:00:00-04:00     0.335968\n",
              "                               ...    \n",
              "2023-12-01 00:00:00-05:00    49.507023\n",
              "2024-01-01 00:00:00-05:00    61.513794\n",
              "2024-02-01 00:00:00-05:00    79.095024\n",
              "2024-03-01 00:00:00-05:00    90.336609\n",
              "2024-04-01 00:00:00-04:00    86.387512\n",
              "Name: Close, Length: 136, dtype: float64"
            ],
            "text/html": [
              "<div>\n",
              "<style scoped>\n",
              "    .dataframe tbody tr th:only-of-type {\n",
              "        vertical-align: middle;\n",
              "    }\n",
              "\n",
              "    .dataframe tbody tr th {\n",
              "        vertical-align: top;\n",
              "    }\n",
              "\n",
              "    .dataframe thead th {\n",
              "        text-align: right;\n",
              "    }\n",
              "</style>\n",
              "<table border=\"1\" class=\"dataframe\">\n",
              "  <thead>\n",
              "    <tr style=\"text-align: right;\">\n",
              "      <th></th>\n",
              "      <th>Close</th>\n",
              "    </tr>\n",
              "    <tr>\n",
              "      <th>Date</th>\n",
              "      <th></th>\n",
              "    </tr>\n",
              "  </thead>\n",
              "  <tbody>\n",
              "    <tr>\n",
              "      <th>2013-01-01 00:00:00-05:00</th>\n",
              "      <td>0.282920</td>\n",
              "    </tr>\n",
              "    <tr>\n",
              "      <th>2013-02-01 00:00:00-05:00</th>\n",
              "      <td>0.292150</td>\n",
              "    </tr>\n",
              "    <tr>\n",
              "      <th>2013-03-01 00:00:00-05:00</th>\n",
              "      <td>0.297890</td>\n",
              "    </tr>\n",
              "    <tr>\n",
              "      <th>2013-04-01 00:00:00-04:00</th>\n",
              "      <td>0.319715</td>\n",
              "    </tr>\n",
              "    <tr>\n",
              "      <th>2013-05-01 00:00:00-04:00</th>\n",
              "      <td>0.335968</td>\n",
              "    </tr>\n",
              "    <tr>\n",
              "      <th>...</th>\n",
              "      <td>...</td>\n",
              "    </tr>\n",
              "    <tr>\n",
              "      <th>2023-12-01 00:00:00-05:00</th>\n",
              "      <td>49.507023</td>\n",
              "    </tr>\n",
              "    <tr>\n",
              "      <th>2024-01-01 00:00:00-05:00</th>\n",
              "      <td>61.513794</td>\n",
              "    </tr>\n",
              "    <tr>\n",
              "      <th>2024-02-01 00:00:00-05:00</th>\n",
              "      <td>79.095024</td>\n",
              "    </tr>\n",
              "    <tr>\n",
              "      <th>2024-03-01 00:00:00-05:00</th>\n",
              "      <td>90.336609</td>\n",
              "    </tr>\n",
              "    <tr>\n",
              "      <th>2024-04-01 00:00:00-04:00</th>\n",
              "      <td>86.387512</td>\n",
              "    </tr>\n",
              "  </tbody>\n",
              "</table>\n",
              "<p>136 rows × 1 columns</p>\n",
              "</div><br><label><b>dtype:</b> float64</label>"
            ]
          },
          "metadata": {},
          "execution_count": 110
        }
      ]
    },
    {
      "cell_type": "markdown",
      "source": [
        "### Quartiles (tukey fence)\n",
        "\n",
        "1.5 (o 3) veces el rango intercuartílico"
      ],
      "metadata": {
        "id": "lcvm3bP-Pxap"
      }
    },
    {
      "cell_type": "code",
      "source": [
        "q1=data.quantile(0.25)\n",
        "q3=data.quantile(0.75)\n",
        "iqr=q3-q1\n",
        "iqr"
      ],
      "metadata": {
        "colab": {
          "base_uri": "https://localhost:8080/"
        },
        "id": "i4FVrwXSPBHr",
        "outputId": "95978ae5-9df8-469b-e969-874f9faa92d4"
      },
      "execution_count": 111,
      "outputs": [
        {
          "output_type": "execute_result",
          "data": {
            "text/plain": [
              "15.444871723651886"
            ]
          },
          "metadata": {},
          "execution_count": 111
        }
      ]
    },
    {
      "cell_type": "code",
      "source": [
        "tabla=pd.DataFrame(index=[\"Close\"])\n",
        "tabla['L_Inferior']=q1-1.5*iqr\n",
        "tabla['L_superior']=q3+1.5*iqr\n",
        "tabla"
      ],
      "metadata": {
        "colab": {
          "base_uri": "https://localhost:8080/",
          "height": 89
        },
        "id": "C7rISNxsPjX6",
        "outputId": "168c9af9-f33c-4d39-d3e3-5cc86989bdbc"
      },
      "execution_count": 113,
      "outputs": [
        {
          "output_type": "execute_result",
          "data": {
            "text/plain": [
              "       L_Inferior  L_superior\n",
              "Close  -22.402094   39.377393"
            ],
            "text/html": [
              "\n",
              "  <div id=\"df-757f4eaa-75a4-4f06-abdc-39a6ff5ab90f\" class=\"colab-df-container\">\n",
              "    <div>\n",
              "<style scoped>\n",
              "    .dataframe tbody tr th:only-of-type {\n",
              "        vertical-align: middle;\n",
              "    }\n",
              "\n",
              "    .dataframe tbody tr th {\n",
              "        vertical-align: top;\n",
              "    }\n",
              "\n",
              "    .dataframe thead th {\n",
              "        text-align: right;\n",
              "    }\n",
              "</style>\n",
              "<table border=\"1\" class=\"dataframe\">\n",
              "  <thead>\n",
              "    <tr style=\"text-align: right;\">\n",
              "      <th></th>\n",
              "      <th>L_Inferior</th>\n",
              "      <th>L_superior</th>\n",
              "    </tr>\n",
              "  </thead>\n",
              "  <tbody>\n",
              "    <tr>\n",
              "      <th>Close</th>\n",
              "      <td>-22.402094</td>\n",
              "      <td>39.377393</td>\n",
              "    </tr>\n",
              "  </tbody>\n",
              "</table>\n",
              "</div>\n",
              "    <div class=\"colab-df-buttons\">\n",
              "\n",
              "  <div class=\"colab-df-container\">\n",
              "    <button class=\"colab-df-convert\" onclick=\"convertToInteractive('df-757f4eaa-75a4-4f06-abdc-39a6ff5ab90f')\"\n",
              "            title=\"Convert this dataframe to an interactive table.\"\n",
              "            style=\"display:none;\">\n",
              "\n",
              "  <svg xmlns=\"http://www.w3.org/2000/svg\" height=\"24px\" viewBox=\"0 -960 960 960\">\n",
              "    <path d=\"M120-120v-720h720v720H120Zm60-500h600v-160H180v160Zm220 220h160v-160H400v160Zm0 220h160v-160H400v160ZM180-400h160v-160H180v160Zm440 0h160v-160H620v160ZM180-180h160v-160H180v160Zm440 0h160v-160H620v160Z\"/>\n",
              "  </svg>\n",
              "    </button>\n",
              "\n",
              "  <style>\n",
              "    .colab-df-container {\n",
              "      display:flex;\n",
              "      gap: 12px;\n",
              "    }\n",
              "\n",
              "    .colab-df-convert {\n",
              "      background-color: #E8F0FE;\n",
              "      border: none;\n",
              "      border-radius: 50%;\n",
              "      cursor: pointer;\n",
              "      display: none;\n",
              "      fill: #1967D2;\n",
              "      height: 32px;\n",
              "      padding: 0 0 0 0;\n",
              "      width: 32px;\n",
              "    }\n",
              "\n",
              "    .colab-df-convert:hover {\n",
              "      background-color: #E2EBFA;\n",
              "      box-shadow: 0px 1px 2px rgba(60, 64, 67, 0.3), 0px 1px 3px 1px rgba(60, 64, 67, 0.15);\n",
              "      fill: #174EA6;\n",
              "    }\n",
              "\n",
              "    .colab-df-buttons div {\n",
              "      margin-bottom: 4px;\n",
              "    }\n",
              "\n",
              "    [theme=dark] .colab-df-convert {\n",
              "      background-color: #3B4455;\n",
              "      fill: #D2E3FC;\n",
              "    }\n",
              "\n",
              "    [theme=dark] .colab-df-convert:hover {\n",
              "      background-color: #434B5C;\n",
              "      box-shadow: 0px 1px 3px 1px rgba(0, 0, 0, 0.15);\n",
              "      filter: drop-shadow(0px 1px 2px rgba(0, 0, 0, 0.3));\n",
              "      fill: #FFFFFF;\n",
              "    }\n",
              "  </style>\n",
              "\n",
              "    <script>\n",
              "      const buttonEl =\n",
              "        document.querySelector('#df-757f4eaa-75a4-4f06-abdc-39a6ff5ab90f button.colab-df-convert');\n",
              "      buttonEl.style.display =\n",
              "        google.colab.kernel.accessAllowed ? 'block' : 'none';\n",
              "\n",
              "      async function convertToInteractive(key) {\n",
              "        const element = document.querySelector('#df-757f4eaa-75a4-4f06-abdc-39a6ff5ab90f');\n",
              "        const dataTable =\n",
              "          await google.colab.kernel.invokeFunction('convertToInteractive',\n",
              "                                                    [key], {});\n",
              "        if (!dataTable) return;\n",
              "\n",
              "        const docLinkHtml = 'Like what you see? Visit the ' +\n",
              "          '<a target=\"_blank\" href=https://colab.research.google.com/notebooks/data_table.ipynb>data table notebook</a>'\n",
              "          + ' to learn more about interactive tables.';\n",
              "        element.innerHTML = '';\n",
              "        dataTable['output_type'] = 'display_data';\n",
              "        await google.colab.output.renderOutput(dataTable, element);\n",
              "        const docLink = document.createElement('div');\n",
              "        docLink.innerHTML = docLinkHtml;\n",
              "        element.appendChild(docLink);\n",
              "      }\n",
              "    </script>\n",
              "  </div>\n",
              "\n",
              "\n",
              "  <div id=\"id_51c447f6-b022-462a-ab91-b8d0d8b52a6c\">\n",
              "    <style>\n",
              "      .colab-df-generate {\n",
              "        background-color: #E8F0FE;\n",
              "        border: none;\n",
              "        border-radius: 50%;\n",
              "        cursor: pointer;\n",
              "        display: none;\n",
              "        fill: #1967D2;\n",
              "        height: 32px;\n",
              "        padding: 0 0 0 0;\n",
              "        width: 32px;\n",
              "      }\n",
              "\n",
              "      .colab-df-generate:hover {\n",
              "        background-color: #E2EBFA;\n",
              "        box-shadow: 0px 1px 2px rgba(60, 64, 67, 0.3), 0px 1px 3px 1px rgba(60, 64, 67, 0.15);\n",
              "        fill: #174EA6;\n",
              "      }\n",
              "\n",
              "      [theme=dark] .colab-df-generate {\n",
              "        background-color: #3B4455;\n",
              "        fill: #D2E3FC;\n",
              "      }\n",
              "\n",
              "      [theme=dark] .colab-df-generate:hover {\n",
              "        background-color: #434B5C;\n",
              "        box-shadow: 0px 1px 3px 1px rgba(0, 0, 0, 0.15);\n",
              "        filter: drop-shadow(0px 1px 2px rgba(0, 0, 0, 0.3));\n",
              "        fill: #FFFFFF;\n",
              "      }\n",
              "    </style>\n",
              "    <button class=\"colab-df-generate\" onclick=\"generateWithVariable('tabla')\"\n",
              "            title=\"Generate code using this dataframe.\"\n",
              "            style=\"display:none;\">\n",
              "\n",
              "  <svg xmlns=\"http://www.w3.org/2000/svg\" height=\"24px\"viewBox=\"0 0 24 24\"\n",
              "       width=\"24px\">\n",
              "    <path d=\"M7,19H8.4L18.45,9,17,7.55,7,17.6ZM5,21V16.75L18.45,3.32a2,2,0,0,1,2.83,0l1.4,1.43a1.91,1.91,0,0,1,.58,1.4,1.91,1.91,0,0,1-.58,1.4L9.25,21ZM18.45,9,17,7.55Zm-12,3A5.31,5.31,0,0,0,4.9,8.1,5.31,5.31,0,0,0,1,6.5,5.31,5.31,0,0,0,4.9,4.9,5.31,5.31,0,0,0,6.5,1,5.31,5.31,0,0,0,8.1,4.9,5.31,5.31,0,0,0,12,6.5,5.46,5.46,0,0,0,6.5,12Z\"/>\n",
              "  </svg>\n",
              "    </button>\n",
              "    <script>\n",
              "      (() => {\n",
              "      const buttonEl =\n",
              "        document.querySelector('#id_51c447f6-b022-462a-ab91-b8d0d8b52a6c button.colab-df-generate');\n",
              "      buttonEl.style.display =\n",
              "        google.colab.kernel.accessAllowed ? 'block' : 'none';\n",
              "\n",
              "      buttonEl.onclick = () => {\n",
              "        google.colab.notebook.generateWithVariable('tabla');\n",
              "      }\n",
              "      })();\n",
              "    </script>\n",
              "  </div>\n",
              "\n",
              "    </div>\n",
              "  </div>\n"
            ],
            "application/vnd.google.colaboratory.intrinsic+json": {
              "type": "dataframe",
              "variable_name": "tabla",
              "summary": "{\n  \"name\": \"tabla\",\n  \"rows\": 1,\n  \"fields\": [\n    {\n      \"column\": \"L_Inferior\",\n      \"properties\": {\n        \"dtype\": \"number\",\n        \"std\": null,\n        \"min\": -22.402094393968582,\n        \"max\": -22.402094393968582,\n        \"num_unique_values\": 1,\n        \"samples\": [\n          -22.402094393968582\n        ],\n        \"semantic_type\": \"\",\n        \"description\": \"\"\n      }\n    },\n    {\n      \"column\": \"L_superior\",\n      \"properties\": {\n        \"dtype\": \"number\",\n        \"std\": null,\n        \"min\": 39.37739250063896,\n        \"max\": 39.37739250063896,\n        \"num_unique_values\": 1,\n        \"samples\": [\n          39.37739250063896\n        ],\n        \"semantic_type\": \"\",\n        \"description\": \"\"\n      }\n    }\n  ]\n}"
            }
          },
          "metadata": {},
          "execution_count": 113
        }
      ]
    },
    {
      "cell_type": "code",
      "source": [
        "tabla=pd.DataFrame(index=[\"remesas\"])\n",
        "tabla['L_Inferior']=q1-3*iqr\n",
        "tabla['L_superior']=q3+3*iqr\n",
        "tabla"
      ],
      "metadata": {
        "colab": {
          "base_uri": "https://localhost:8080/",
          "height": 89
        },
        "id": "MOlze3BAQxl-",
        "outputId": "4ef209d4-970b-4bd6-b3f1-6321e165e7be"
      },
      "execution_count": 114,
      "outputs": [
        {
          "output_type": "execute_result",
          "data": {
            "text/plain": [
              "         L_Inferior  L_superior\n",
              "remesas  -45.569402     62.5447"
            ],
            "text/html": [
              "\n",
              "  <div id=\"df-ecd6603b-5ff0-40b9-b073-29b34bb13011\" class=\"colab-df-container\">\n",
              "    <div>\n",
              "<style scoped>\n",
              "    .dataframe tbody tr th:only-of-type {\n",
              "        vertical-align: middle;\n",
              "    }\n",
              "\n",
              "    .dataframe tbody tr th {\n",
              "        vertical-align: top;\n",
              "    }\n",
              "\n",
              "    .dataframe thead th {\n",
              "        text-align: right;\n",
              "    }\n",
              "</style>\n",
              "<table border=\"1\" class=\"dataframe\">\n",
              "  <thead>\n",
              "    <tr style=\"text-align: right;\">\n",
              "      <th></th>\n",
              "      <th>L_Inferior</th>\n",
              "      <th>L_superior</th>\n",
              "    </tr>\n",
              "  </thead>\n",
              "  <tbody>\n",
              "    <tr>\n",
              "      <th>remesas</th>\n",
              "      <td>-45.569402</td>\n",
              "      <td>62.5447</td>\n",
              "    </tr>\n",
              "  </tbody>\n",
              "</table>\n",
              "</div>\n",
              "    <div class=\"colab-df-buttons\">\n",
              "\n",
              "  <div class=\"colab-df-container\">\n",
              "    <button class=\"colab-df-convert\" onclick=\"convertToInteractive('df-ecd6603b-5ff0-40b9-b073-29b34bb13011')\"\n",
              "            title=\"Convert this dataframe to an interactive table.\"\n",
              "            style=\"display:none;\">\n",
              "\n",
              "  <svg xmlns=\"http://www.w3.org/2000/svg\" height=\"24px\" viewBox=\"0 -960 960 960\">\n",
              "    <path d=\"M120-120v-720h720v720H120Zm60-500h600v-160H180v160Zm220 220h160v-160H400v160Zm0 220h160v-160H400v160ZM180-400h160v-160H180v160Zm440 0h160v-160H620v160ZM180-180h160v-160H180v160Zm440 0h160v-160H620v160Z\"/>\n",
              "  </svg>\n",
              "    </button>\n",
              "\n",
              "  <style>\n",
              "    .colab-df-container {\n",
              "      display:flex;\n",
              "      gap: 12px;\n",
              "    }\n",
              "\n",
              "    .colab-df-convert {\n",
              "      background-color: #E8F0FE;\n",
              "      border: none;\n",
              "      border-radius: 50%;\n",
              "      cursor: pointer;\n",
              "      display: none;\n",
              "      fill: #1967D2;\n",
              "      height: 32px;\n",
              "      padding: 0 0 0 0;\n",
              "      width: 32px;\n",
              "    }\n",
              "\n",
              "    .colab-df-convert:hover {\n",
              "      background-color: #E2EBFA;\n",
              "      box-shadow: 0px 1px 2px rgba(60, 64, 67, 0.3), 0px 1px 3px 1px rgba(60, 64, 67, 0.15);\n",
              "      fill: #174EA6;\n",
              "    }\n",
              "\n",
              "    .colab-df-buttons div {\n",
              "      margin-bottom: 4px;\n",
              "    }\n",
              "\n",
              "    [theme=dark] .colab-df-convert {\n",
              "      background-color: #3B4455;\n",
              "      fill: #D2E3FC;\n",
              "    }\n",
              "\n",
              "    [theme=dark] .colab-df-convert:hover {\n",
              "      background-color: #434B5C;\n",
              "      box-shadow: 0px 1px 3px 1px rgba(0, 0, 0, 0.15);\n",
              "      filter: drop-shadow(0px 1px 2px rgba(0, 0, 0, 0.3));\n",
              "      fill: #FFFFFF;\n",
              "    }\n",
              "  </style>\n",
              "\n",
              "    <script>\n",
              "      const buttonEl =\n",
              "        document.querySelector('#df-ecd6603b-5ff0-40b9-b073-29b34bb13011 button.colab-df-convert');\n",
              "      buttonEl.style.display =\n",
              "        google.colab.kernel.accessAllowed ? 'block' : 'none';\n",
              "\n",
              "      async function convertToInteractive(key) {\n",
              "        const element = document.querySelector('#df-ecd6603b-5ff0-40b9-b073-29b34bb13011');\n",
              "        const dataTable =\n",
              "          await google.colab.kernel.invokeFunction('convertToInteractive',\n",
              "                                                    [key], {});\n",
              "        if (!dataTable) return;\n",
              "\n",
              "        const docLinkHtml = 'Like what you see? Visit the ' +\n",
              "          '<a target=\"_blank\" href=https://colab.research.google.com/notebooks/data_table.ipynb>data table notebook</a>'\n",
              "          + ' to learn more about interactive tables.';\n",
              "        element.innerHTML = '';\n",
              "        dataTable['output_type'] = 'display_data';\n",
              "        await google.colab.output.renderOutput(dataTable, element);\n",
              "        const docLink = document.createElement('div');\n",
              "        docLink.innerHTML = docLinkHtml;\n",
              "        element.appendChild(docLink);\n",
              "      }\n",
              "    </script>\n",
              "  </div>\n",
              "\n",
              "\n",
              "  <div id=\"id_cc990927-fa69-4e93-9793-9268dade7788\">\n",
              "    <style>\n",
              "      .colab-df-generate {\n",
              "        background-color: #E8F0FE;\n",
              "        border: none;\n",
              "        border-radius: 50%;\n",
              "        cursor: pointer;\n",
              "        display: none;\n",
              "        fill: #1967D2;\n",
              "        height: 32px;\n",
              "        padding: 0 0 0 0;\n",
              "        width: 32px;\n",
              "      }\n",
              "\n",
              "      .colab-df-generate:hover {\n",
              "        background-color: #E2EBFA;\n",
              "        box-shadow: 0px 1px 2px rgba(60, 64, 67, 0.3), 0px 1px 3px 1px rgba(60, 64, 67, 0.15);\n",
              "        fill: #174EA6;\n",
              "      }\n",
              "\n",
              "      [theme=dark] .colab-df-generate {\n",
              "        background-color: #3B4455;\n",
              "        fill: #D2E3FC;\n",
              "      }\n",
              "\n",
              "      [theme=dark] .colab-df-generate:hover {\n",
              "        background-color: #434B5C;\n",
              "        box-shadow: 0px 1px 3px 1px rgba(0, 0, 0, 0.15);\n",
              "        filter: drop-shadow(0px 1px 2px rgba(0, 0, 0, 0.3));\n",
              "        fill: #FFFFFF;\n",
              "      }\n",
              "    </style>\n",
              "    <button class=\"colab-df-generate\" onclick=\"generateWithVariable('tabla')\"\n",
              "            title=\"Generate code using this dataframe.\"\n",
              "            style=\"display:none;\">\n",
              "\n",
              "  <svg xmlns=\"http://www.w3.org/2000/svg\" height=\"24px\"viewBox=\"0 0 24 24\"\n",
              "       width=\"24px\">\n",
              "    <path d=\"M7,19H8.4L18.45,9,17,7.55,7,17.6ZM5,21V16.75L18.45,3.32a2,2,0,0,1,2.83,0l1.4,1.43a1.91,1.91,0,0,1,.58,1.4,1.91,1.91,0,0,1-.58,1.4L9.25,21ZM18.45,9,17,7.55Zm-12,3A5.31,5.31,0,0,0,4.9,8.1,5.31,5.31,0,0,0,1,6.5,5.31,5.31,0,0,0,4.9,4.9,5.31,5.31,0,0,0,6.5,1,5.31,5.31,0,0,0,8.1,4.9,5.31,5.31,0,0,0,12,6.5,5.46,5.46,0,0,0,6.5,12Z\"/>\n",
              "  </svg>\n",
              "    </button>\n",
              "    <script>\n",
              "      (() => {\n",
              "      const buttonEl =\n",
              "        document.querySelector('#id_cc990927-fa69-4e93-9793-9268dade7788 button.colab-df-generate');\n",
              "      buttonEl.style.display =\n",
              "        google.colab.kernel.accessAllowed ? 'block' : 'none';\n",
              "\n",
              "      buttonEl.onclick = () => {\n",
              "        google.colab.notebook.generateWithVariable('tabla');\n",
              "      }\n",
              "      })();\n",
              "    </script>\n",
              "  </div>\n",
              "\n",
              "    </div>\n",
              "  </div>\n"
            ],
            "application/vnd.google.colaboratory.intrinsic+json": {
              "type": "dataframe",
              "variable_name": "tabla",
              "summary": "{\n  \"name\": \"tabla\",\n  \"rows\": 1,\n  \"fields\": [\n    {\n      \"column\": \"L_Inferior\",\n      \"properties\": {\n        \"dtype\": \"number\",\n        \"std\": null,\n        \"min\": -45.56940197944641,\n        \"max\": -45.56940197944641,\n        \"num_unique_values\": 1,\n        \"samples\": [\n          -45.56940197944641\n        ],\n        \"semantic_type\": \"\",\n        \"description\": \"\"\n      }\n    },\n    {\n      \"column\": \"L_superior\",\n      \"properties\": {\n        \"dtype\": \"number\",\n        \"std\": null,\n        \"min\": 62.54470008611679,\n        \"max\": 62.54470008611679,\n        \"num_unique_values\": 1,\n        \"samples\": [\n          62.54470008611679\n        ],\n        \"semantic_type\": \"\",\n        \"description\": \"\"\n      }\n    }\n  ]\n}"
            }
          },
          "metadata": {},
          "execution_count": 114
        }
      ]
    },
    {
      "cell_type": "code",
      "source": [
        "data[data > q3+1.5*iqr]"
      ],
      "metadata": {
        "colab": {
          "base_uri": "https://localhost:8080/",
          "height": 617
        },
        "id": "naV_vMAXQ4cO",
        "outputId": "be9f41ab-effb-4eb8-abbd-7b0f2df7f5a5"
      },
      "execution_count": 115,
      "outputs": [
        {
          "output_type": "execute_result",
          "data": {
            "text/plain": [
              "Date\n",
              "2023-06-01 00:00:00-04:00     42.281345\n",
              "2023-07-01 00:00:00-04:00     46.711014\n",
              "2023-08-01 00:00:00-04:00     49.336006\n",
              "2023-09-01 00:00:00-04:00     43.482265\n",
              "2023-10-01 00:00:00-04:00     40.767666\n",
              "2023-11-01 00:00:00-04:00     46.755852\n",
              "2023-12-01 00:00:00-05:00     49.507023\n",
              "2024-01-01 00:00:00-05:00     61.513794\n",
              "2024-02-01 00:00:00-05:00     79.095024\n",
              "2024-03-01 00:00:00-05:00     90.336609\n",
              "2024-04-01 00:00:00-04:00     86.387512\n",
              "2024-05-01 00:00:00-04:00    109.614624\n",
              "2024-06-01 00:00:00-04:00    123.519287\n",
              "2024-07-01 00:00:00-04:00    117.009987\n",
              "2024-08-01 00:00:00-04:00    119.359795\n",
              "2024-09-01 00:00:00-04:00    113.370003\n",
              "Name: Close, dtype: float64"
            ],
            "text/html": [
              "<div>\n",
              "<style scoped>\n",
              "    .dataframe tbody tr th:only-of-type {\n",
              "        vertical-align: middle;\n",
              "    }\n",
              "\n",
              "    .dataframe tbody tr th {\n",
              "        vertical-align: top;\n",
              "    }\n",
              "\n",
              "    .dataframe thead th {\n",
              "        text-align: right;\n",
              "    }\n",
              "</style>\n",
              "<table border=\"1\" class=\"dataframe\">\n",
              "  <thead>\n",
              "    <tr style=\"text-align: right;\">\n",
              "      <th></th>\n",
              "      <th>Close</th>\n",
              "    </tr>\n",
              "    <tr>\n",
              "      <th>Date</th>\n",
              "      <th></th>\n",
              "    </tr>\n",
              "  </thead>\n",
              "  <tbody>\n",
              "    <tr>\n",
              "      <th>2023-06-01 00:00:00-04:00</th>\n",
              "      <td>42.281345</td>\n",
              "    </tr>\n",
              "    <tr>\n",
              "      <th>2023-07-01 00:00:00-04:00</th>\n",
              "      <td>46.711014</td>\n",
              "    </tr>\n",
              "    <tr>\n",
              "      <th>2023-08-01 00:00:00-04:00</th>\n",
              "      <td>49.336006</td>\n",
              "    </tr>\n",
              "    <tr>\n",
              "      <th>2023-09-01 00:00:00-04:00</th>\n",
              "      <td>43.482265</td>\n",
              "    </tr>\n",
              "    <tr>\n",
              "      <th>2023-10-01 00:00:00-04:00</th>\n",
              "      <td>40.767666</td>\n",
              "    </tr>\n",
              "    <tr>\n",
              "      <th>2023-11-01 00:00:00-04:00</th>\n",
              "      <td>46.755852</td>\n",
              "    </tr>\n",
              "    <tr>\n",
              "      <th>2023-12-01 00:00:00-05:00</th>\n",
              "      <td>49.507023</td>\n",
              "    </tr>\n",
              "    <tr>\n",
              "      <th>2024-01-01 00:00:00-05:00</th>\n",
              "      <td>61.513794</td>\n",
              "    </tr>\n",
              "    <tr>\n",
              "      <th>2024-02-01 00:00:00-05:00</th>\n",
              "      <td>79.095024</td>\n",
              "    </tr>\n",
              "    <tr>\n",
              "      <th>2024-03-01 00:00:00-05:00</th>\n",
              "      <td>90.336609</td>\n",
              "    </tr>\n",
              "    <tr>\n",
              "      <th>2024-04-01 00:00:00-04:00</th>\n",
              "      <td>86.387512</td>\n",
              "    </tr>\n",
              "    <tr>\n",
              "      <th>2024-05-01 00:00:00-04:00</th>\n",
              "      <td>109.614624</td>\n",
              "    </tr>\n",
              "    <tr>\n",
              "      <th>2024-06-01 00:00:00-04:00</th>\n",
              "      <td>123.519287</td>\n",
              "    </tr>\n",
              "    <tr>\n",
              "      <th>2024-07-01 00:00:00-04:00</th>\n",
              "      <td>117.009987</td>\n",
              "    </tr>\n",
              "    <tr>\n",
              "      <th>2024-08-01 00:00:00-04:00</th>\n",
              "      <td>119.359795</td>\n",
              "    </tr>\n",
              "    <tr>\n",
              "      <th>2024-09-01 00:00:00-04:00</th>\n",
              "      <td>113.370003</td>\n",
              "    </tr>\n",
              "  </tbody>\n",
              "</table>\n",
              "</div><br><label><b>dtype:</b> float64</label>"
            ]
          },
          "metadata": {},
          "execution_count": 115
        }
      ]
    },
    {
      "cell_type": "code",
      "source": [
        "plt.boxplot(data)"
      ],
      "metadata": {
        "colab": {
          "base_uri": "https://localhost:8080/",
          "height": 569
        },
        "id": "r4ryab55QOXk",
        "outputId": "d7c01e35-431d-4250-a93b-df340c9db163"
      },
      "execution_count": 116,
      "outputs": [
        {
          "output_type": "execute_result",
          "data": {
            "text/plain": [
              "{'whiskers': [<matplotlib.lines.Line2D at 0x7e3784c2d960>,\n",
              "  <matplotlib.lines.Line2D at 0x7e3784c2dc00>],\n",
              " 'caps': [<matplotlib.lines.Line2D at 0x7e3784c2dea0>,\n",
              "  <matplotlib.lines.Line2D at 0x7e3784c2e140>],\n",
              " 'boxes': [<matplotlib.lines.Line2D at 0x7e3784c2d6c0>],\n",
              " 'medians': [<matplotlib.lines.Line2D at 0x7e3784c2e3e0>],\n",
              " 'fliers': [<matplotlib.lines.Line2D at 0x7e3784c2e680>],\n",
              " 'means': []}"
            ]
          },
          "metadata": {},
          "execution_count": 116
        },
        {
          "output_type": "display_data",
          "data": {
            "text/plain": [
              "<Figure size 640x480 with 1 Axes>"
            ],
            "image/png": "[encoded data removed]"
          },
          "metadata": {}
        }
      ]
    },
    {
      "cell_type": "markdown",
      "source": [
        "Encuentra los valores atípicos usando el cambio porcentual de la serie o recortando la serie. ¿Llegas a la misma conclusión?"
      ],
      "metadata": {
        "id": "X9o4YYKoRuIL"
      }
    },
    {
      "cell_type": "code",
      "source": [
        "# Usando el cambio porcentual\n",
        "pct_change_data = data.pct_change()\n",
        "q1_pct = pct_change_data.quantile(0.25)\n",
        "q3_pct = pct_change_data.quantile(0.75)\n",
        "iqr_pct = q3_pct - q1_pct\n",
        "\n",
        "outliers_pct_upper = pct_change_data[pct_change_data > q3_pct + 1.5 * iqr_pct]\n",
        "outliers_pct_lower = pct_change_data[pct_change_data < q1_pct - 1.5 * iqr_pct]\n",
        "\n",
        "print(\"Outliers usando cambio porcentual (superior):\")\n",
        "print(outliers_pct_upper)\n",
        "print(\"\\nOutliers usando cambio porcentual (inferior):\")\n",
        "print(outliers_pct_lower)\n",
        "\n",
        "\n",
        "# Recortando la serie (por ejemplo, eliminando el 1% superior e inferior)\n",
        "lower_bound = data.quantile(0.01)\n",
        "upper_bound = data.quantile(0.99)\n",
        "trimmed_data = data[(data >= lower_bound) & (data <= upper_bound)]\n",
        "\n",
        "outliers_trimmed = data[~data.isin(trimmed_data)]\n",
        "print(\"\\nOutliers usando recorte de la serie:\")\n",
        "print(outliers_trimmed)\n"
      ],
      "metadata": {
        "id": "dY02cocCT8hR",
        "colab": {
          "base_uri": "https://localhost:8080/"
        },
        "outputId": "b80fb9f0-5719-458f-8cdc-1ba8d34209d9"
      },
      "execution_count": 122,
      "outputs": [
        {
          "output_type": "stream",
          "name": "stdout",
          "text": [
            "Outliers usando cambio porcentual (superior):\n",
            "Date\n",
            "2017-05-01 00:00:00-04:00    0.383988\n",
            "2023-05-01 00:00:00-04:00    0.363437\n",
            "Name: Close, dtype: float64\n",
            "\n",
            "Outliers usando cambio porcentual (inferior):\n",
            "Date\n",
            "2019-05-01 00:00:00-04:00   -0.251602\n",
            "2022-04-01 00:00:00-04:00   -0.320158\n",
            "Name: Close, dtype: float64\n",
            "\n",
            "Outliers usando recorte de la serie:\n",
            "Date\n",
            "2013-01-01 00:00:00-05:00      0.282920\n",
            "2013-02-01 00:00:00-05:00      0.292150\n",
            "2024-06-01 00:00:00-04:00    123.519287\n",
            "2024-08-01 00:00:00-04:00    119.359795\n",
            "Name: Close, dtype: float64\n"
          ]
        }
      ]
    },
    {
      "cell_type": "markdown",
      "source": [
        "### sustitución de outliers\n",
        "\n",
        "Después de encontrar los outliers, la labor es decidir que hacer con ellos. Puedes sustituir por la media, usar el periodo anterior, o el periodo estacional pasado."
      ],
      "metadata": {
        "id": "sVWIUCZIT78n"
      }
    },
    {
      "cell_type": "code",
      "source": [
        "\n",
        "data[data > q3+3*iqr] = mnean(data)"
      ],
      "metadata": {
        "id": "bjy-cPycUY4K",
        "colab": {
          "base_uri": "https://localhost:8080/",
          "height": 141
        },
        "outputId": "68777ddc-cf74-4143-dbdb-3f24e3b65a93"
      },
      "execution_count": 130,
      "outputs": [
        {
          "output_type": "error",
          "ename": "NameError",
          "evalue": "name 'mnean' is not defined",
          "traceback": [
            "\u001b[0;31m---------------------------------------------------------------------------\u001b[0m",
            "\u001b[0;31mNameError\u001b[0m                                 Traceback (most recent call last)",
            "\u001b[0;32m<ipython-input-130-195311508bde>\u001b[0m in \u001b[0;36m<cell line: 1>\u001b[0;34m()\u001b[0m\n\u001b[0;32m----> 1\u001b[0;31m \u001b[0mdata\u001b[0m\u001b[0;34m[\u001b[0m\u001b[0mdata\u001b[0m \u001b[0;34m>\u001b[0m \u001b[0mq3\u001b[0m\u001b[0;34m+\u001b[0m\u001b[0;36m3\u001b[0m\u001b[0;34m*\u001b[0m\u001b[0miqr\u001b[0m\u001b[0;34m]\u001b[0m \u001b[0;34m=\u001b[0m \u001b[0mmnean\u001b[0m\u001b[0;34m(\u001b[0m\u001b[0mdata\u001b[0m\u001b[0;34m)\u001b[0m\u001b[0;34m\u001b[0m\u001b[0;34m\u001b[0m\u001b[0m\n\u001b[0m",
            "\u001b[0;31mNameError\u001b[0m: name 'mnean' is not defined"
          ]
        }
      ]
    },
    {
      "cell_type": "markdown",
      "source": [
        "Existen otros métodos para detectar valores atípicos. Consulta más en:\n",
        "\n",
        "https://scikit-learn.org/stable/modules/outlier_detection.html"
      ],
      "metadata": {
        "id": "phGEWm-rUaMy"
      }
    },
    {
      "cell_type": "markdown",
      "source": [
        "### Fechas importantes"
      ],
      "metadata": {
        "id": "gtS8hFuvRUP6"
      }
    },
    {
      "cell_type": "code",
      "source": [
        "data.pct_change().sort_values()"
      ],
      "metadata": {
        "colab": {
          "base_uri": "https://localhost:8080/",
          "height": 490
        },
        "id": "pAC3lTRJSp8H",
        "outputId": "da886686-0528-4bd9-89de-f5ad93a8dba4"
      },
      "execution_count": 131,
      "outputs": [
        {
          "output_type": "execute_result",
          "data": {
            "text/plain": [
              "Date\n",
              "2024-02-01 00:00:00-05:00   -0.753876\n",
              "2022-04-01 00:00:00-04:00   -0.320158\n",
              "2019-05-01 00:00:00-04:00   -0.251602\n",
              "2018-10-01 00:00:00-04:00   -0.249768\n",
              "2018-11-01 00:00:00-04:00   -0.224826\n",
              "                               ...   \n",
              "2016-05-01 00:00:00-04:00    0.314945\n",
              "2023-01-01 00:00:00-05:00    0.336869\n",
              "2023-05-01 00:00:00-04:00    0.363437\n",
              "2017-05-01 00:00:00-04:00    0.383988\n",
              "2013-01-01 00:00:00-05:00         NaN\n",
              "Name: Close, Length: 141, dtype: float64"
            ],
            "text/html": [
              "<div>\n",
              "<style scoped>\n",
              "    .dataframe tbody tr th:only-of-type {\n",
              "        vertical-align: middle;\n",
              "    }\n",
              "\n",
              "    .dataframe tbody tr th {\n",
              "        vertical-align: top;\n",
              "    }\n",
              "\n",
              "    .dataframe thead th {\n",
              "        text-align: right;\n",
              "    }\n",
              "</style>\n",
              "<table border=\"1\" class=\"dataframe\">\n",
              "  <thead>\n",
              "    <tr style=\"text-align: right;\">\n",
              "      <th></th>\n",
              "      <th>Close</th>\n",
              "    </tr>\n",
              "    <tr>\n",
              "      <th>Date</th>\n",
              "      <th></th>\n",
              "    </tr>\n",
              "  </thead>\n",
              "  <tbody>\n",
              "    <tr>\n",
              "      <th>2024-02-01 00:00:00-05:00</th>\n",
              "      <td>-0.753876</td>\n",
              "    </tr>\n",
              "    <tr>\n",
              "      <th>2022-04-01 00:00:00-04:00</th>\n",
              "      <td>-0.320158</td>\n",
              "    </tr>\n",
              "    <tr>\n",
              "      <th>2019-05-01 00:00:00-04:00</th>\n",
              "      <td>-0.251602</td>\n",
              "    </tr>\n",
              "    <tr>\n",
              "      <th>2018-10-01 00:00:00-04:00</th>\n",
              "      <td>-0.249768</td>\n",
              "    </tr>\n",
              "    <tr>\n",
              "      <th>2018-11-01 00:00:00-04:00</th>\n",
              "      <td>-0.224826</td>\n",
              "    </tr>\n",
              "    <tr>\n",
              "      <th>...</th>\n",
              "      <td>...</td>\n",
              "    </tr>\n",
              "    <tr>\n",
              "      <th>2016-05-01 00:00:00-04:00</th>\n",
              "      <td>0.314945</td>\n",
              "    </tr>\n",
              "    <tr>\n",
              "      <th>2023-01-01 00:00:00-05:00</th>\n",
              "      <td>0.336869</td>\n",
              "    </tr>\n",
              "    <tr>\n",
              "      <th>2023-05-01 00:00:00-04:00</th>\n",
              "      <td>0.363437</td>\n",
              "    </tr>\n",
              "    <tr>\n",
              "      <th>2017-05-01 00:00:00-04:00</th>\n",
              "      <td>0.383988</td>\n",
              "    </tr>\n",
              "    <tr>\n",
              "      <th>2013-01-01 00:00:00-05:00</th>\n",
              "      <td>NaN</td>\n",
              "    </tr>\n",
              "  </tbody>\n",
              "</table>\n",
              "<p>141 rows × 1 columns</p>\n",
              "</div><br><label><b>dtype:</b> float64</label>"
            ]
          },
          "metadata": {},
          "execution_count": 131
        }
      ]
    },
    {
      "cell_type": "code",
      "source": [
        "fecha_2024 = pd.Series(data = [1], index=[\"2024-02-01\"], name = \"2024\")\n",
        "fecha_2022 = pd.Series(data = [1], index=[\"2022-04-01\"], name = \"2022\")\n",
        "fecha_2019 = pd.Series(data = [1], index=[\"2019-05-01\"], name = \"2019\")\n",
        "fecha_2018 = pd.Series(data = [1], index=[\"2018-10-01\"], name = \"2018\")\n",
        "fecha_2018_2 = pd.Series(data = [1], index=[\"2018-11-01\"], name = \"2018\")"
      ],
      "metadata": {
        "id": "HrGYKUknQZAl"
      },
      "execution_count": 136,
      "outputs": []
    },
    {
      "cell_type": "code",
      "source": [
        "fecha_2024"
      ],
      "metadata": {
        "colab": {
          "base_uri": "https://localhost:8080/",
          "height": 115
        },
        "id": "y3Fu2MMUTB-Q",
        "outputId": "6bd7adbc-ecdd-4b7b-c89f-dc6bc887887c"
      },
      "execution_count": 137,
      "outputs": [
        {
          "output_type": "execute_result",
          "data": {
            "text/plain": [
              "2024-02-01    1\n",
              "Name: 2024, dtype: int64"
            ],
            "text/html": [
              "<div>\n",
              "<style scoped>\n",
              "    .dataframe tbody tr th:only-of-type {\n",
              "        vertical-align: middle;\n",
              "    }\n",
              "\n",
              "    .dataframe tbody tr th {\n",
              "        vertical-align: top;\n",
              "    }\n",
              "\n",
              "    .dataframe thead th {\n",
              "        text-align: right;\n",
              "    }\n",
              "</style>\n",
              "<table border=\"1\" class=\"dataframe\">\n",
              "  <thead>\n",
              "    <tr style=\"text-align: right;\">\n",
              "      <th></th>\n",
              "      <th>2024</th>\n",
              "    </tr>\n",
              "  </thead>\n",
              "  <tbody>\n",
              "    <tr>\n",
              "      <th>2024-02-01</th>\n",
              "      <td>1</td>\n",
              "    </tr>\n",
              "  </tbody>\n",
              "</table>\n",
              "</div><br><label><b>dtype:</b> int64</label>"
            ]
          },
          "metadata": {},
          "execution_count": 137
        }
      ]
    },
    {
      "cell_type": "markdown",
      "source": [
        "## Transformaciones matemáticas\n",
        "\n",
        "### Logaritmo natural (log)"
      ],
      "metadata": {
        "id": "laITQ4CiV5o9"
      }
    },
    {
      "cell_type": "code",
      "source": [
        "np.log(data).skew()"
      ],
      "metadata": {
        "colab": {
          "base_uri": "https://localhost:8080/"
        },
        "id": "gQ3adO2KTSC3",
        "outputId": "365a3e68-95d4-40e2-bbaf-cbf745c53298"
      },
      "execution_count": 138,
      "outputs": [
        {
          "output_type": "execute_result",
          "data": {
            "text/plain": [
              "-0.24069176402529144"
            ]
          },
          "metadata": {},
          "execution_count": 138
        }
      ]
    },
    {
      "cell_type": "code",
      "source": [
        "np.log(data).std()"
      ],
      "metadata": {
        "colab": {
          "base_uri": "https://localhost:8080/"
        },
        "id": "WkBaNrh6WgQF",
        "outputId": "c0c22c0f-14ce-41d1-9e5b-79750140e726"
      },
      "execution_count": 139,
      "outputs": [
        {
          "output_type": "execute_result",
          "data": {
            "text/plain": [
              "1.5777611101758706"
            ]
          },
          "metadata": {},
          "execution_count": 139
        }
      ]
    },
    {
      "cell_type": "code",
      "source": [
        "np.log(data).plot()"
      ],
      "metadata": {
        "colab": {
          "base_uri": "https://localhost:8080/",
          "height": 466
        },
        "id": "Y97uyJm9Wy0L",
        "outputId": "00eeb9f8-2fe8-45bd-b712-a8642fa64d78"
      },
      "execution_count": 140,
      "outputs": [
        {
          "output_type": "execute_result",
          "data": {
            "text/plain": [
              "<Axes: xlabel='Date'>"
            ]
          },
          "metadata": {},
          "execution_count": 140
        },
        {
          "output_type": "display_data",
          "data": {
            "text/plain": [
              "<Figure size 640x480 with 1 Axes>"
            ],
            "image/png": "[encoded data removed]"
          },
          "metadata": {}
        }
      ]
    },
    {
      "cell_type": "code",
      "source": [
        "np.log(data).hist(bins=50)"
      ],
      "metadata": {
        "colab": {
          "base_uri": "https://localhost:8080/",
          "height": 447
        },
        "id": "rQZygiXYW016",
        "outputId": "d2ee8b33-feb3-4a49-ee98-a503769b6584"
      },
      "execution_count": 141,
      "outputs": [
        {
          "output_type": "execute_result",
          "data": {
            "text/plain": [
              "<Axes: >"
            ]
          },
          "metadata": {},
          "execution_count": 141
        },
        {
          "output_type": "display_data",
          "data": {
            "text/plain": [
              "<Figure size 640x480 with 1 Axes>"
            ],
            "image/png": "[encoded data removed]"
          },
          "metadata": {}
        }
      ]
    },
    {
      "cell_type": "markdown",
      "source": [
        "### BoxCox"
      ],
      "metadata": {
        "id": "EYr8VT7gW5fV"
      }
    },
    {
      "cell_type": "code",
      "source": [
        "sp.stats.skew(sp.stats.boxcox(data)[0], bias=False)"
      ],
      "metadata": {
        "colab": {
          "base_uri": "https://localhost:8080/"
        },
        "id": "jYk6umdEW5O0",
        "outputId": "097bdf1e-ce81-4e1b-d101-fe3d7edbc5ff"
      },
      "execution_count": 142,
      "outputs": [
        {
          "output_type": "execute_result",
          "data": {
            "text/plain": [
              "-0.06491887383025406"
            ]
          },
          "metadata": {},
          "execution_count": 142
        }
      ]
    },
    {
      "cell_type": "code",
      "source": [
        "np.std(sp.stats.boxcox(data)[0])"
      ],
      "metadata": {
        "colab": {
          "base_uri": "https://localhost:8080/"
        },
        "id": "b8O0Ahl_W3qn",
        "outputId": "0973541d-be79-48f2-f92b-07e048a3bc03"
      },
      "execution_count": 143,
      "outputs": [
        {
          "output_type": "execute_result",
          "data": {
            "text/plain": [
              "1.7842864763314317"
            ]
          },
          "metadata": {},
          "execution_count": 143
        }
      ]
    },
    {
      "cell_type": "code",
      "source": [
        "plt.plot(sp.stats.boxcox(data)[0])"
      ],
      "metadata": {
        "colab": {
          "base_uri": "https://localhost:8080/",
          "height": 447
        },
        "id": "lRqVdJpJXZf3",
        "outputId": "e7773449-5aa8-4a1a-82ed-4037c054f40b"
      },
      "execution_count": 144,
      "outputs": [
        {
          "output_type": "execute_result",
          "data": {
            "text/plain": [
              "[<matplotlib.lines.Line2D at 0x7e378471d060>]"
            ]
          },
          "metadata": {},
          "execution_count": 144
        },
        {
          "output_type": "display_data",
          "data": {
            "text/plain": [
              "<Figure size 640x480 with 1 Axes>"
            ],
            "image/png": "[encoded data removed]"
          },
          "metadata": {}
        }
      ]
    },
    {
      "cell_type": "code",
      "source": [
        "plt.hist(sp.stats.boxcox(data)[0], bins=50)"
      ],
      "metadata": {
        "colab": {
          "base_uri": "https://localhost:8080/",
          "height": 710
        },
        "id": "ZEqHL8AbXi93",
        "outputId": "0d243470-0de6-42a1-f25a-81ce996cd560"
      },
      "execution_count": null,
      "outputs": [
        {
          "output_type": "execute_result",
          "data": {
            "text/plain": [
              "(array([ 4.,  3., 10., 12.,  7., 11., 11.,  6.,  7.,  3.,  4.,  7.,  7.,\n",
              "         4.,  1.,  1.,  1.,  4.,  0.,  7.,  4.,  7.,  6., 12., 24., 25.,\n",
              "        18., 22., 24.,  8., 12.,  5.,  7.,  3.,  7.,  6.,  4.,  3.,  5.,\n",
              "         1.,  2.,  2.,  2.,  3.,  7.,  3.,  6.,  2.,  4.,  4.]),\n",
              " array([18.49507686, 19.45826809, 20.42145931, 21.38465054, 22.34784177,\n",
              "        23.311033  , 24.27422423, 25.23741546, 26.20060669, 27.16379792,\n",
              "        28.12698915, 29.09018038, 30.05337161, 31.01656284, 31.97975406,\n",
              "        32.94294529, 33.90613652, 34.86932775, 35.83251898, 36.79571021,\n",
              "        37.75890144, 38.72209267, 39.6852839 , 40.64847513, 41.61166636,\n",
              "        42.57485759, 43.53804881, 44.50124004, 45.46443127, 46.4276225 ,\n",
              "        47.39081373, 48.35400496, 49.31719619, 50.28038742, 51.24357865,\n",
              "        52.20676988, 53.16996111, 54.13315234, 55.09634356, 56.05953479,\n",
              "        57.02272602, 57.98591725, 58.94910848, 59.91229971, 60.87549094,\n",
              "        61.83868217, 62.8018734 , 63.76506463, 64.72825586, 65.69144709,\n",
              "        66.65463831]),\n",
              " <BarContainer object of 50 artists>)"
            ]
          },
          "metadata": {},
          "execution_count": 112
        },
        {
          "output_type": "display_data",
          "data": {
            "text/plain": [
              "<Figure size 640x480 with 1 Axes>"
            ],
            "image/png": "[encoded data removed]"
          },
          "metadata": {}
        }
      ]
    },
    {
      "cell_type": "code",
      "source": [
        "sp.stats.boxcox(data)[1] #lambda"
      ],
      "metadata": {
        "colab": {
          "base_uri": "https://localhost:8080/"
        },
        "id": "0fP9q2_pXlWR",
        "outputId": "3af3ad9c-93ee-4ef7-97c5-c288aa71e53e"
      },
      "execution_count": null,
      "outputs": [
        {
          "output_type": "execute_result",
          "data": {
            "text/plain": [
              "0.3761733319183594"
            ]
          },
          "metadata": {},
          "execution_count": 113
        }
      ]
    },
    {
      "cell_type": "code",
      "source": [],
      "metadata": {
        "id": "pG54mAuDXyXr"
      },
      "execution_count": null,
      "outputs": []
    }
  ]
}