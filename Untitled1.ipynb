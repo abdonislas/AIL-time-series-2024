{
  "nbformat": 4,
  "nbformat_minor": 0,
  "metadata": {
    "colab": {
      "provenance": []
    },
    "kernelspec": {
      "name": "python3",
      "display_name": "Python 3"
    },
    "language_info": {
      "name": "python"
    }
  },
  "cells": [
    {
      "cell_type": "code",
      "execution_count": 3,
      "metadata": {
        "colab": {
          "base_uri": "https://localhost:8080/"
        },
        "id": "iwVSgaCfPmpv",
        "outputId": "297b7aed-f63f-4c7c-d100-5416adc680e9"
      },
      "outputs": [
        {
          "output_type": "stream",
          "name": "stdout",
          "text": [
            "Date\n",
            "1999-01-22 00:00:00-05:00    0.037621\n",
            "1999-01-25 00:00:00-05:00    0.041562\n",
            "1999-01-26 00:00:00-05:00    0.038337\n",
            "1999-01-27 00:00:00-05:00    0.038218\n",
            "1999-01-28 00:00:00-05:00    0.038098\n",
            "Name: Close, dtype: float64\n"
          ]
        }
      ],
      "source": [
        "import yfinance as yf\n",
        "import pandas as pd\n",
        "\n",
        "\n",
        "nvda = yf.Ticker(\"NVDA\")\n",
        "data = nvda.history(period=\"max\")\n",
        "\n",
        "serie = pd.Series(data['Close'], index=data.index)\n",
        "\n",
        "print(serie.head())"
      ]
    },
    {
      "cell_type": "code",
      "source": [
        "\n",
        "gold = yf.Ticker(\"GLD\")\n",
        "data = gold.history(period=\"max\")\n",
        "\n",
        "\n",
        "serie2 = pd.Series(data['Close'], index=data.index)\n",
        "\n",
        "\n",
        "print(serie2)\n",
        "\n"
      ],
      "metadata": {
        "colab": {
          "base_uri": "https://localhost:8080/"
        },
        "id": "MFYu86lMYiTE",
        "outputId": "a9310f02-676a-461d-ed2a-537e76964d6d"
      },
      "execution_count": 5,
      "outputs": [
        {
          "output_type": "stream",
          "name": "stdout",
          "text": [
            "Date\n",
            "2004-11-18 00:00:00-05:00     44.380001\n",
            "2004-11-19 00:00:00-05:00     44.779999\n",
            "2004-11-22 00:00:00-05:00     44.950001\n",
            "2004-11-23 00:00:00-05:00     44.750000\n",
            "2004-11-24 00:00:00-05:00     45.049999\n",
            "                                ...    \n",
            "2024-08-20 00:00:00-04:00    232.460007\n",
            "2024-08-21 00:00:00-04:00    232.149994\n",
            "2024-08-22 00:00:00-04:00    229.369995\n",
            "2024-08-23 00:00:00-04:00    232.020004\n",
            "2024-08-26 00:00:00-04:00    232.759995\n",
            "Name: Close, Length: 4975, dtype: float64\n"
          ]
        }
      ]
    }
  ]
}